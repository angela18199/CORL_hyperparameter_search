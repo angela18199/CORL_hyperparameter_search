{
 "cells": [
  {
   "cell_type": "code",
   "execution_count": null,
   "metadata": {
    "colab": {
     "base_uri": "https://localhost:8080/",
     "height": 34
    },
    "executionInfo": {
     "elapsed": 26853,
     "status": "ok",
     "timestamp": 1601669521420,
     "user": {
      "displayName": "Richard Watson",
      "photoUrl": "https://lh3.googleusercontent.com/a-/AOh14Gg_aaSfAKowaEMKH5EBs_BIRHzGivNQen-5Osb-=s64",
      "userId": "11605160484643735164"
     },
     "user_tz": 240
    },
    "id": "iQNzrHip7tY7",
    "outputId": "108ac432-d5aa-4288-8b01-f3a4f7e7c448"
   },
   "outputs": [
    {
     "name": "stdout",
     "output_type": "stream",
     "text": [
      "Mounted at /content/drive\n"
     ]
    }
   ],
   "source": [
    "# This code block is used to access your google drive\n",
    "\n",
    "#from google.colab import drive\n",
    "#ROOT = \"/content/drive\"\n",
    "#drive.mount(ROOT)"
   ]
  },
  {
   "cell_type": "code",
   "execution_count": null,
   "metadata": {
    "colab": {
     "base_uri": "https://localhost:8080/",
     "height": 34
    },
    "executionInfo": {
     "elapsed": 575,
     "status": "ok",
     "timestamp": 1601669822850,
     "user": {
      "displayName": "Richard Watson",
      "photoUrl": "https://lh3.googleusercontent.com/a-/AOh14Gg_aaSfAKowaEMKH5EBs_BIRHzGivNQen-5Osb-=s64",
      "userId": "11605160484643735164"
     },
     "user_tz": 240
    },
    "id": "4J2MYt1j9YK-",
    "outputId": "52af76a6-9650-44b3-9372-b4c6d7dec6e6"
   },
   "outputs": [
    {
     "name": "stdout",
     "output_type": "stream",
     "text": [
      "/content/drive/My Drive\n"
     ]
    }
   ],
   "source": [
    "#%cd drive/'My Drive'"
   ]
  },
  {
   "cell_type": "code",
   "execution_count": null,
   "metadata": {
    "colab": {
     "base_uri": "https://localhost:8080/",
     "height": 121
    },
    "executionInfo": {
     "elapsed": 2842,
     "status": "ok",
     "timestamp": 1601669828827,
     "user": {
      "displayName": "Richard Watson",
      "photoUrl": "https://lh3.googleusercontent.com/a-/AOh14Gg_aaSfAKowaEMKH5EBs_BIRHzGivNQen-5Osb-=s64",
      "userId": "11605160484643735164"
     },
     "user_tz": 240
    },
    "id": "on5lwhsY8DlP",
    "outputId": "b74cd77a-b6dc-4c95-d724-75101c67cf2a"
   },
   "outputs": [
    {
     "name": "stdout",
     "output_type": "stream",
     "text": [
      "Cloning into 'CORL'...\n",
      "remote: Enumerating objects: 33, done.\u001b[K\n",
      "remote: Counting objects: 100% (33/33), done.\u001b[K\n",
      "remote: Compressing objects: 100% (30/30), done.\u001b[K\n",
      "remote: Total 33 (delta 1), reused 30 (delta 1), pack-reused 0\u001b[K\n",
      "Unpacking objects: 100% (33/33), done.\n"
     ]
    }
   ],
   "source": [
    "# clone in project folder\n",
    "# if you want, uncomment next line and type in path to desired workspace folder\n",
    "# %cd to/desired/workspace/folder\n",
    "\n",
    "#!git clone https://github.com/rlagent45/CORL.git"
   ]
  },
  {
   "cell_type": "code",
   "execution_count": 1,
   "metadata": {
    "colab": {
     "base_uri": "https://localhost:8080/",
     "height": 34
    },
    "executionInfo": {
     "elapsed": 493,
     "status": "ok",
     "timestamp": 1601669837019,
     "user": {
      "displayName": "Richard Watson",
      "photoUrl": "https://lh3.googleusercontent.com/a-/AOh14Gg_aaSfAKowaEMKH5EBs_BIRHzGivNQen-5Osb-=s64",
      "userId": "11605160484643735164"
     },
     "user_tz": 240
    },
    "id": "voBDrPcD9DAH",
    "outputId": "c94ca64a-cf65-45cc-bc6a-51bdfb68f878"
   },
   "outputs": [
    {
     "name": "stdout",
     "output_type": "stream",
     "text": [
      "/Users/yu/Documents/Duke/courses/capstone/RL_for_vehicle/paper:repository/CORL\n"
     ]
    }
   ],
   "source": [
    "%cd /Users/yu/Documents/Duke/courses/capstone/RL_for_vehicle/paper:repository/CORL"
   ]
  },
  {
   "cell_type": "code",
   "execution_count": 2,
   "metadata": {
    "id": "MOKs-OMo9Fqs"
   },
   "outputs": [
    {
     "name": "stdout",
     "output_type": "stream",
     "text": [
      "Cloning into 'attention-learn-to-route'...\n",
      "remote: Enumerating objects: 270, done.\u001b[K\n",
      "remote: Total 270 (delta 0), reused 0 (delta 0), pack-reused 270\u001b[K\n",
      "Receiving objects: 100% (270/270), 76.26 MiB | 17.27 MiB/s, done.\n",
      "Resolving deltas: 100% (75/75), done.\n"
     ]
    }
   ],
   "source": [
    "# clone into attention\n",
    "!git clone https://github.com/wouterkool/attention-learn-to-route.git\n",
    "!mv attention-learn-to-route/ attention\n",
    "\n",
    "# update files\n",
    "!cp att_run.py attention/run.py\n",
    "!cp att_train.py attention/train.py\n",
    "!cp att_options.py attention/options.py\n",
    "!cp att_vrp_evolve.py attention/vrp_evolve.py\n",
    "!cp att_empty attention/empty"
   ]
  },
  {
   "cell_type": "code",
   "execution_count": null,
   "metadata": {
    "id": "8485NoXM-uPS"
   },
   "outputs": [],
   "source": [
    "# Everything should be setup and ready to run!"
   ]
  }
 ],
 "metadata": {
  "colab": {
   "authorship_tag": "ABX9TyO7CafqJkYDhUSAyAGQKyKO",
   "collapsed_sections": [],
   "name": "setup.ipynb",
   "provenance": []
  },
  "kernelspec": {
   "display_name": "Python 3",
   "language": "python",
   "name": "python3"
  },
  "language_info": {
   "codemirror_mode": {
    "name": "ipython",
    "version": 3
   },
   "file_extension": ".py",
   "mimetype": "text/x-python",
   "name": "python",
   "nbconvert_exporter": "python",
   "pygments_lexer": "ipython3",
   "version": "3.7.3"
  }
 },
 "nbformat": 4,
 "nbformat_minor": 1
}
